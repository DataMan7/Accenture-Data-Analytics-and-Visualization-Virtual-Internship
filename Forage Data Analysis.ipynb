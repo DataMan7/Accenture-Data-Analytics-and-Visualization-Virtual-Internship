{
 "cells": [
  {
   "cell_type": "markdown",
   "id": "03f8377b",
   "metadata": {},
   "source": [
    "Which three data sets will you need to complete your analysis\n",
    "\n",
    "My job is to identify which content categories are most popular. Popularity is determined based on reaction scores.\n",
    "\n",
    "\n",
    "Definitions of different data types:\n",
    "\n",
    "String - Sequence of characters, digits, or symbols—always treated as text\n",
    "UUID - Universally Unique Identifiers\n",
    "Array - List with a number of elements in a specific order—typically of the same type\n",
    "Integer - Numeric data type for numbers without fractions\n",
    "Timestamp - Number of seconds that have elapsed since midnight (00:00:00 UTC), 1st January 1970 (Unix time)\n",
    "\n",
    "Reaction, Content, Reaction Types\n",
    "\n",
    "Which three data sets will you need to complete your analysis?\n",
    " You’ve identified Reaction, Content, and Reaction Types as our relevant data sets.\n",
    "To clarify why you made this selection:\n",
    "\n",
    "- The brief carefully it states that the client wanted to see “An analysis of their content categories showing the top 5 categories with the largest popularity”.\n",
    "- As explained in the data model, popularity is quantified by the “Score” given to each reaction type. We therefore need data showing the content ID, category, content type, reaction type, and reaction score.\n",
    "- So, to figure out popularity, we’ll have to add up which content categories have the largest score.\n"
   ]
  },
  {
   "cell_type": "code",
   "execution_count": 50,
   "id": "cde8380e",
   "metadata": {},
   "outputs": [],
   "source": [
    "#Load the librarys\n",
    "import pandas as pd #To work with dataset\n",
    "import numpy as np #Math library\n",
    "\n",
    "\n",
    "# Remove warnings\n",
    "import warnings\n",
    "warnings.filterwarnings('ignore')\n"
   ]
  },
  {
   "cell_type": "code",
   "execution_count": 51,
   "id": "bdeff494",
   "metadata": {},
   "outputs": [],
   "source": [
    "# Reading of our xls files \n",
    "content = pd.read_csv(r\"C:\\Users\\monga\\Desktop\\forage\\Data Analysis\\Content.csv\")"
   ]
  },
  {
   "cell_type": "code",
   "execution_count": 52,
   "id": "8f2e30ca",
   "metadata": {},
   "outputs": [],
   "source": [
    "#Importing the data\n",
    "reactions = pd.read_csv(r\"C:\\Users\\monga\\Desktop\\forage\\Data Analysis\\Reactions.csv\")"
   ]
  },
  {
   "cell_type": "code",
   "execution_count": 53,
   "id": "8db6d63d",
   "metadata": {},
   "outputs": [],
   "source": [
    "#Importing the data\n",
    "reaction_types = pd.read_csv(r\"C:\\Users\\monga\\Desktop\\forage\\Data Analysis\\ReactionTypes.csv\")"
   ]
  },
  {
   "cell_type": "markdown",
   "id": "0b9bb586",
   "metadata": {},
   "source": [
    "# a) Content Data Set"
   ]
  },
  {
   "cell_type": "code",
   "execution_count": 54,
   "id": "c9999641",
   "metadata": {},
   "outputs": [
    {
     "data": {
      "text/html": [
       "<div>\n",
       "<style scoped>\n",
       "    .dataframe tbody tr th:only-of-type {\n",
       "        vertical-align: middle;\n",
       "    }\n",
       "\n",
       "    .dataframe tbody tr th {\n",
       "        vertical-align: top;\n",
       "    }\n",
       "\n",
       "    .dataframe thead th {\n",
       "        text-align: right;\n",
       "    }\n",
       "</style>\n",
       "<table border=\"1\" class=\"dataframe\">\n",
       "  <thead>\n",
       "    <tr style=\"text-align: right;\">\n",
       "      <th></th>\n",
       "      <th>Unnamed: 0</th>\n",
       "      <th>Content ID</th>\n",
       "      <th>User ID</th>\n",
       "      <th>Type</th>\n",
       "      <th>Category</th>\n",
       "      <th>URL</th>\n",
       "    </tr>\n",
       "  </thead>\n",
       "  <tbody>\n",
       "    <tr>\n",
       "      <th>0</th>\n",
       "      <td>0</td>\n",
       "      <td>97522e57-d9ab-4bd6-97bf-c24d952602d2</td>\n",
       "      <td>8d3cd87d-8a31-4935-9a4f-b319bfe05f31</td>\n",
       "      <td>photo</td>\n",
       "      <td>Studying</td>\n",
       "      <td>https://socialbuzz.cdn.com/content/storage/975...</td>\n",
       "    </tr>\n",
       "    <tr>\n",
       "      <th>1</th>\n",
       "      <td>1</td>\n",
       "      <td>9f737e0a-3cdd-4d29-9d24-753f4e3be810</td>\n",
       "      <td>beb1f34e-7870-46d6-9fc7-2e12eb83ce43</td>\n",
       "      <td>photo</td>\n",
       "      <td>healthy eating</td>\n",
       "      <td>https://socialbuzz.cdn.com/content/storage/9f7...</td>\n",
       "    </tr>\n",
       "    <tr>\n",
       "      <th>2</th>\n",
       "      <td>2</td>\n",
       "      <td>230c4e4d-70c3-461d-b42c-ec09396efb3f</td>\n",
       "      <td>a5c65404-5894-4b87-82f2-d787cbee86b4</td>\n",
       "      <td>photo</td>\n",
       "      <td>healthy eating</td>\n",
       "      <td>https://socialbuzz.cdn.com/content/storage/230...</td>\n",
       "    </tr>\n",
       "    <tr>\n",
       "      <th>3</th>\n",
       "      <td>3</td>\n",
       "      <td>356fff80-da4d-4785-9f43-bc1261031dc6</td>\n",
       "      <td>9fb4ce88-fac1-406c-8544-1a899cee7aaf</td>\n",
       "      <td>photo</td>\n",
       "      <td>technology</td>\n",
       "      <td>https://socialbuzz.cdn.com/content/storage/356...</td>\n",
       "    </tr>\n",
       "    <tr>\n",
       "      <th>4</th>\n",
       "      <td>4</td>\n",
       "      <td>01ab84dd-6364-4236-abbb-3f237db77180</td>\n",
       "      <td>e206e31b-5f85-4964-b6ea-d7ee5324def1</td>\n",
       "      <td>video</td>\n",
       "      <td>food</td>\n",
       "      <td>https://socialbuzz.cdn.com/content/storage/01a...</td>\n",
       "    </tr>\n",
       "  </tbody>\n",
       "</table>\n",
       "</div>"
      ],
      "text/plain": [
       "   Unnamed: 0                            Content ID  \\\n",
       "0           0  97522e57-d9ab-4bd6-97bf-c24d952602d2   \n",
       "1           1  9f737e0a-3cdd-4d29-9d24-753f4e3be810   \n",
       "2           2  230c4e4d-70c3-461d-b42c-ec09396efb3f   \n",
       "3           3  356fff80-da4d-4785-9f43-bc1261031dc6   \n",
       "4           4  01ab84dd-6364-4236-abbb-3f237db77180   \n",
       "\n",
       "                                User ID   Type        Category  \\\n",
       "0  8d3cd87d-8a31-4935-9a4f-b319bfe05f31  photo        Studying   \n",
       "1  beb1f34e-7870-46d6-9fc7-2e12eb83ce43  photo  healthy eating   \n",
       "2  a5c65404-5894-4b87-82f2-d787cbee86b4  photo  healthy eating   \n",
       "3  9fb4ce88-fac1-406c-8544-1a899cee7aaf  photo      technology   \n",
       "4  e206e31b-5f85-4964-b6ea-d7ee5324def1  video            food   \n",
       "\n",
       "                                                 URL  \n",
       "0  https://socialbuzz.cdn.com/content/storage/975...  \n",
       "1  https://socialbuzz.cdn.com/content/storage/9f7...  \n",
       "2  https://socialbuzz.cdn.com/content/storage/230...  \n",
       "3  https://socialbuzz.cdn.com/content/storage/356...  \n",
       "4  https://socialbuzz.cdn.com/content/storage/01a...  "
      ]
     },
     "execution_count": 54,
     "metadata": {},
     "output_type": "execute_result"
    }
   ],
   "source": [
    "# Opening the content csv file\n",
    "content.head()"
   ]
  },
  {
   "cell_type": "code",
   "execution_count": 55,
   "id": "db4cc577",
   "metadata": {},
   "outputs": [
    {
     "data": {
      "text/plain": [
       "(1000, 6)"
      ]
     },
     "execution_count": 55,
     "metadata": {},
     "output_type": "execute_result"
    }
   ],
   "source": [
    "content.shape"
   ]
  },
  {
   "cell_type": "code",
   "execution_count": 56,
   "id": "a62f14a2",
   "metadata": {},
   "outputs": [
    {
     "name": "stdout",
     "output_type": "stream",
     "text": [
      "<class 'pandas.core.frame.DataFrame'>\n",
      "RangeIndex: 1000 entries, 0 to 999\n",
      "Data columns (total 6 columns):\n",
      " #   Column      Non-Null Count  Dtype \n",
      "---  ------      --------------  ----- \n",
      " 0   Unnamed: 0  1000 non-null   int64 \n",
      " 1   Content ID  1000 non-null   object\n",
      " 2   User ID     1000 non-null   object\n",
      " 3   Type        1000 non-null   object\n",
      " 4   Category    1000 non-null   object\n",
      " 5   URL         801 non-null    object\n",
      "dtypes: int64(1), object(5)\n",
      "memory usage: 47.0+ KB\n"
     ]
    }
   ],
   "source": [
    "content.info()"
   ]
  },
  {
   "cell_type": "code",
   "execution_count": 57,
   "id": "fd13dd2b",
   "metadata": {},
   "outputs": [
    {
     "data": {
      "text/plain": [
       "Unnamed: 0      0\n",
       "Content ID      0\n",
       "User ID         0\n",
       "Type            0\n",
       "Category        0\n",
       "URL           199\n",
       "dtype: int64"
      ]
     },
     "execution_count": 57,
     "metadata": {},
     "output_type": "execute_result"
    }
   ],
   "source": [
    "# Clearly we can see that no null values are present in our dataset \n",
    "content.isnull().sum()"
   ]
  },
  {
   "cell_type": "code",
   "execution_count": 58,
   "id": "16504927",
   "metadata": {},
   "outputs": [
    {
     "name": "stdout",
     "output_type": "stream",
     "text": [
      "Index(['Unnamed: 0', 'Content ID', 'User ID', 'Type', 'Category', 'URL'], dtype='object')\n"
     ]
    }
   ],
   "source": [
    "print(content.columns)"
   ]
  },
  {
   "cell_type": "code",
   "execution_count": 59,
   "id": "0473b48a",
   "metadata": {},
   "outputs": [
    {
     "data": {
      "text/plain": [
       "Unnamed: 0      0\n",
       "Content ID      0\n",
       "User ID         0\n",
       "Type            0\n",
       "Category        0\n",
       "URL           199\n",
       "dtype: int64"
      ]
     },
     "execution_count": 59,
     "metadata": {},
     "output_type": "execute_result"
    }
   ],
   "source": [
    "# Let's check for missing values in our data\n",
    "content.isnull().sum()"
   ]
  },
  {
   "cell_type": "code",
   "execution_count": 60,
   "id": "e89c1200",
   "metadata": {},
   "outputs": [
    {
     "data": {
      "text/plain": [
       "Unnamed: 0    False\n",
       "Content ID    False\n",
       "User ID       False\n",
       "Type          False\n",
       "Category      False\n",
       "URL            True\n",
       "dtype: bool"
      ]
     },
     "execution_count": 60,
     "metadata": {},
     "output_type": "execute_result"
    }
   ],
   "source": [
    "#Another way of Cheking for Missing data in data set by columns\n",
    "content.isnull().any()"
   ]
  },
  {
   "cell_type": "code",
   "execution_count": 61,
   "id": "7229bc67",
   "metadata": {},
   "outputs": [
    {
     "data": {
      "text/html": [
       "<div>\n",
       "<style scoped>\n",
       "    .dataframe tbody tr th:only-of-type {\n",
       "        vertical-align: middle;\n",
       "    }\n",
       "\n",
       "    .dataframe tbody tr th {\n",
       "        vertical-align: top;\n",
       "    }\n",
       "\n",
       "    .dataframe thead th {\n",
       "        text-align: right;\n",
       "    }\n",
       "</style>\n",
       "<table border=\"1\" class=\"dataframe\">\n",
       "  <thead>\n",
       "    <tr style=\"text-align: right;\">\n",
       "      <th></th>\n",
       "      <th>Content ID</th>\n",
       "      <th>User ID</th>\n",
       "      <th>Type</th>\n",
       "      <th>Category</th>\n",
       "    </tr>\n",
       "  </thead>\n",
       "  <tbody>\n",
       "    <tr>\n",
       "      <th>0</th>\n",
       "      <td>97522e57-d9ab-4bd6-97bf-c24d952602d2</td>\n",
       "      <td>8d3cd87d-8a31-4935-9a4f-b319bfe05f31</td>\n",
       "      <td>photo</td>\n",
       "      <td>Studying</td>\n",
       "    </tr>\n",
       "    <tr>\n",
       "      <th>1</th>\n",
       "      <td>9f737e0a-3cdd-4d29-9d24-753f4e3be810</td>\n",
       "      <td>beb1f34e-7870-46d6-9fc7-2e12eb83ce43</td>\n",
       "      <td>photo</td>\n",
       "      <td>healthy eating</td>\n",
       "    </tr>\n",
       "    <tr>\n",
       "      <th>2</th>\n",
       "      <td>230c4e4d-70c3-461d-b42c-ec09396efb3f</td>\n",
       "      <td>a5c65404-5894-4b87-82f2-d787cbee86b4</td>\n",
       "      <td>photo</td>\n",
       "      <td>healthy eating</td>\n",
       "    </tr>\n",
       "    <tr>\n",
       "      <th>3</th>\n",
       "      <td>356fff80-da4d-4785-9f43-bc1261031dc6</td>\n",
       "      <td>9fb4ce88-fac1-406c-8544-1a899cee7aaf</td>\n",
       "      <td>photo</td>\n",
       "      <td>technology</td>\n",
       "    </tr>\n",
       "    <tr>\n",
       "      <th>4</th>\n",
       "      <td>01ab84dd-6364-4236-abbb-3f237db77180</td>\n",
       "      <td>e206e31b-5f85-4964-b6ea-d7ee5324def1</td>\n",
       "      <td>video</td>\n",
       "      <td>food</td>\n",
       "    </tr>\n",
       "    <tr>\n",
       "      <th>...</th>\n",
       "      <td>...</td>\n",
       "      <td>...</td>\n",
       "      <td>...</td>\n",
       "      <td>...</td>\n",
       "    </tr>\n",
       "    <tr>\n",
       "      <th>995</th>\n",
       "      <td>b4cef9ef-627b-41d7-a051-5961b0204ebb</td>\n",
       "      <td>5b62e10e-3c19-4d28-a57c-e9bdc3d6758d</td>\n",
       "      <td>video</td>\n",
       "      <td>public speaking</td>\n",
       "    </tr>\n",
       "    <tr>\n",
       "      <th>996</th>\n",
       "      <td>7a79f4e4-3b7d-44dc-bdef-bc990740252c</td>\n",
       "      <td>4fe420fa-a193-4408-bd5d-62a020233609</td>\n",
       "      <td>GIF</td>\n",
       "      <td>technology</td>\n",
       "    </tr>\n",
       "    <tr>\n",
       "      <th>997</th>\n",
       "      <td>435007a5-6261-4d8b-b0a4-55fdc189754b</td>\n",
       "      <td>35d6a1f3-e358-4d4b-8074-05f3b7f35c2a</td>\n",
       "      <td>audio</td>\n",
       "      <td>veganism</td>\n",
       "    </tr>\n",
       "    <tr>\n",
       "      <th>998</th>\n",
       "      <td>4e4c9690-c013-4ee7-9e66-943d8cbd27b7</td>\n",
       "      <td>b9bcd994-f000-4f6b-87fc-caae08acfaa1</td>\n",
       "      <td>GIF</td>\n",
       "      <td>culture</td>\n",
       "    </tr>\n",
       "    <tr>\n",
       "      <th>999</th>\n",
       "      <td>75d6b589-7fae-4a6d-b0d0-752845150e56</td>\n",
       "      <td>b8c653b5-0118-4d7e-9bde-07c2de90f0ff</td>\n",
       "      <td>audio</td>\n",
       "      <td>technology</td>\n",
       "    </tr>\n",
       "  </tbody>\n",
       "</table>\n",
       "<p>1000 rows × 4 columns</p>\n",
       "</div>"
      ],
      "text/plain": [
       "                               Content ID  \\\n",
       "0    97522e57-d9ab-4bd6-97bf-c24d952602d2   \n",
       "1    9f737e0a-3cdd-4d29-9d24-753f4e3be810   \n",
       "2    230c4e4d-70c3-461d-b42c-ec09396efb3f   \n",
       "3    356fff80-da4d-4785-9f43-bc1261031dc6   \n",
       "4    01ab84dd-6364-4236-abbb-3f237db77180   \n",
       "..                                    ...   \n",
       "995  b4cef9ef-627b-41d7-a051-5961b0204ebb   \n",
       "996  7a79f4e4-3b7d-44dc-bdef-bc990740252c   \n",
       "997  435007a5-6261-4d8b-b0a4-55fdc189754b   \n",
       "998  4e4c9690-c013-4ee7-9e66-943d8cbd27b7   \n",
       "999  75d6b589-7fae-4a6d-b0d0-752845150e56   \n",
       "\n",
       "                                  User ID   Type         Category  \n",
       "0    8d3cd87d-8a31-4935-9a4f-b319bfe05f31  photo         Studying  \n",
       "1    beb1f34e-7870-46d6-9fc7-2e12eb83ce43  photo   healthy eating  \n",
       "2    a5c65404-5894-4b87-82f2-d787cbee86b4  photo   healthy eating  \n",
       "3    9fb4ce88-fac1-406c-8544-1a899cee7aaf  photo       technology  \n",
       "4    e206e31b-5f85-4964-b6ea-d7ee5324def1  video             food  \n",
       "..                                    ...    ...              ...  \n",
       "995  5b62e10e-3c19-4d28-a57c-e9bdc3d6758d  video  public speaking  \n",
       "996  4fe420fa-a193-4408-bd5d-62a020233609    GIF       technology  \n",
       "997  35d6a1f3-e358-4d4b-8074-05f3b7f35c2a  audio         veganism  \n",
       "998  b9bcd994-f000-4f6b-87fc-caae08acfaa1    GIF          culture  \n",
       "999  b8c653b5-0118-4d7e-9bde-07c2de90f0ff  audio       technology  \n",
       "\n",
       "[1000 rows x 4 columns]"
      ]
     },
     "execution_count": 61,
     "metadata": {},
     "output_type": "execute_result"
    }
   ],
   "source": [
    "content.drop(['URL','Unnamed: 0'], axis=1)"
   ]
  },
  {
   "cell_type": "code",
   "execution_count": 62,
   "id": "22ad6076",
   "metadata": {},
   "outputs": [],
   "source": [
    "#Identify duplicate rows:\n",
    "duplicate_rows = content[content.duplicated()]"
   ]
  },
  {
   "cell_type": "code",
   "execution_count": 63,
   "id": "8dfbd2af",
   "metadata": {},
   "outputs": [
    {
     "name": "stdout",
     "output_type": "stream",
     "text": [
      "Empty DataFrame\n",
      "Columns: [Unnamed: 0, Content ID, User ID, Type, Category, URL]\n",
      "Index: []\n"
     ]
    }
   ],
   "source": [
    "print(duplicate_rows)"
   ]
  },
  {
   "cell_type": "code",
   "execution_count": 64,
   "id": "25f19b8c",
   "metadata": {},
   "outputs": [
    {
     "name": "stdout",
     "output_type": "stream",
     "text": [
      "Number of duplicate rows: 0\n"
     ]
    }
   ],
   "source": [
    "#Get count of duplicate rows:\n",
    "num_duplicates = len(duplicate_rows)\n",
    "print(\"Number of duplicate rows:\", num_duplicates)"
   ]
  },
  {
   "cell_type": "code",
   "execution_count": 65,
   "id": "155fa423",
   "metadata": {},
   "outputs": [
    {
     "name": "stdout",
     "output_type": "stream",
     "text": [
      "[0      True\n",
      "1      True\n",
      "2      True\n",
      "3      True\n",
      "4      True\n",
      "       ... \n",
      "995    True\n",
      "996    True\n",
      "997    True\n",
      "998    True\n",
      "999    True\n",
      "Length: 1000, dtype: bool]\n"
     ]
    }
   ],
   "source": [
    "# check for duplicates in the 'Name' column\n",
    "duplicates = [content.duplicated(subset='Category', keep=False)]\n",
    "\n",
    "# print the duplicate rows\n",
    "print(duplicates)"
   ]
  },
  {
   "cell_type": "code",
   "execution_count": 66,
   "id": "5a448093",
   "metadata": {},
   "outputs": [
    {
     "name": "stdout",
     "output_type": "stream",
     "text": [
      "There are 986 duplicate values in the 'Category' column.\n"
     ]
    }
   ],
   "source": [
    "# Count duplicates in the 'column_name' column\n",
    "duplicate_count = content['Category'].value_counts().loc[lambda x: x > 1].sum()\n",
    "\n",
    "print(f\"There are {duplicate_count} duplicate values in the 'Category' column.\")"
   ]
  },
  {
   "cell_type": "code",
   "execution_count": 67,
   "id": "c1439ce4",
   "metadata": {},
   "outputs": [
    {
     "name": "stdout",
     "output_type": "stream",
     "text": [
      "     Unnamed: 0                            Content ID  \\\n",
      "50           50  2d949603-6676-4402-900b-2c2c78315ea0   \n",
      "100         100  c8b044a9-8427-4b41-bc61-7b549ab1626c   \n",
      "150         150  5651450a-d330-46e6-bac9-c7c7e7defaf2   \n",
      "200         200  48a824bf-e495-4333-8acf-c800947ec2cd   \n",
      "250         250  78461336-26e2-4d0c-ab9a-fefbe419a8dd   \n",
      "300         300  693b5f91-52b1-4464-916c-91adccbec996   \n",
      "400         400  93081b1a-4446-438a-a0d7-fbcedc3c992d   \n",
      "450         450  bde82663-7be3-453d-afc2-539202df27c3   \n",
      "500         500  6380e982-07ac-4d21-bd23-cec0bcfa1ff9   \n",
      "550         550  e4487829-621f-4265-8665-42a4c0610745   \n",
      "600         600  0fbdd670-a266-4805-9bbc-c5ad73cf97b3   \n",
      "650         650  9c8be342-6cff-4d80-bf94-fd0fd8ccd845   \n",
      "750         750  b0782637-2604-40f7-8fc6-5e7d9ffd2255   \n",
      "800         800  e1eb9e92-2e08-48b0-8be7-a2a98048aa08   \n",
      "850         850  dd942c3f-2ed5-4849-9e2b-7484f5a4eaf4   \n",
      "900         900  bc8024c3-c51e-4875-b8df-419e9848f492   \n",
      "950         950  e4127cae-c2e9-4321-919a-be6d11636808   \n",
      "\n",
      "                                  User ID   Type           Category  URL  \n",
      "50   4baf648a-0ad5-412d-8250-5a0ff9289fbf  audio          \"culture\"  NaN  \n",
      "100  64b33556-9ecf-4ebc-8b4c-f829ab1a4881  photo         \"studying\"  NaN  \n",
      "150  bf721d00-4fa1-44b1-834f-4730cd51aefa  photo          \"animals\"  NaN  \n",
      "200  69fcad9e-45a9-4189-b7e1-96b26c57c542  audio           \"soccer\"  NaN  \n",
      "250  3205ad12-726a-4b65-a15a-1a899a9d310b  video             \"dogs\"  NaN  \n",
      "300  3663e3e6-3d5c-4ed9-a6af-1e680ec5f34b  photo          \"culture\"  NaN  \n",
      "400  3efc3621-873a-4b80-a0cb-27e531d600be    GIF           \"soccer\"  NaN  \n",
      "450  7adafb3c-7c7c-492b-be5b-5ddd9ff1316a  video           \"tennis\"  NaN  \n",
      "500  1582dac6-ebec-43ed-a34a-1a202ca72627  photo           \"soccer\"  NaN  \n",
      "550  6fd58dea-315a-4ab2-8023-424a6ff455cd  audio             \"food\"  NaN  \n",
      "600  63e1cb43-d3dc-491a-af16-209c1c152c44  photo       \"technology\"  NaN  \n",
      "650  b9480379-4b96-412c-8dca-96fff9ae81a3  video             \"dogs\"  NaN  \n",
      "750  c1e01541-7508-4712-a22c-0370f232a41e  video          \"cooking\"  NaN  \n",
      "800  2dd186bb-7a28-4e80-99c7-f1936afc7b49  video  \"public speaking\"  NaN  \n",
      "850  89d6bd9d-ce6b-42e5-bb9b-ece3b338396d  audio          \"culture\"  NaN  \n",
      "900  c7b6e374-1bef-48c3-8222-cc231dbd5cce    GIF         \"veganism\"  NaN  \n",
      "950  4cff698b-def1-497c-a78e-75058de67fe8  audio          \"science\"  NaN  \n"
     ]
    }
   ],
   "source": [
    "# Check if there are any single or double quotes in the column of interest\n",
    "has_quotes = content['Category'].str.contains('\\'|\"')\n",
    "\n",
    "# Print the rows with quotes\n",
    "print(content[has_quotes])"
   ]
  },
  {
   "cell_type": "code",
   "execution_count": 68,
   "id": "24922c91",
   "metadata": {},
   "outputs": [
    {
     "name": "stdout",
     "output_type": "stream",
     "text": [
      "     Unnamed: 0                            Content ID  \\\n",
      "0             0  97522e57-d9ab-4bd6-97bf-c24d952602d2   \n",
      "1             1  9f737e0a-3cdd-4d29-9d24-753f4e3be810   \n",
      "2             2  230c4e4d-70c3-461d-b42c-ec09396efb3f   \n",
      "3             3  356fff80-da4d-4785-9f43-bc1261031dc6   \n",
      "4             4  01ab84dd-6364-4236-abbb-3f237db77180   \n",
      "..          ...                                   ...   \n",
      "995         995  b4cef9ef-627b-41d7-a051-5961b0204ebb   \n",
      "996         996  7a79f4e4-3b7d-44dc-bdef-bc990740252c   \n",
      "997         997  435007a5-6261-4d8b-b0a4-55fdc189754b   \n",
      "998         998  4e4c9690-c013-4ee7-9e66-943d8cbd27b7   \n",
      "999         999  75d6b589-7fae-4a6d-b0d0-752845150e56   \n",
      "\n",
      "                                  User ID   Type         Category  \\\n",
      "0    8d3cd87d-8a31-4935-9a4f-b319bfe05f31  photo         Studying   \n",
      "1    beb1f34e-7870-46d6-9fc7-2e12eb83ce43  photo   healthy eating   \n",
      "2    a5c65404-5894-4b87-82f2-d787cbee86b4  photo   healthy eating   \n",
      "3    9fb4ce88-fac1-406c-8544-1a899cee7aaf  photo       technology   \n",
      "4    e206e31b-5f85-4964-b6ea-d7ee5324def1  video             food   \n",
      "..                                    ...    ...              ...   \n",
      "995  5b62e10e-3c19-4d28-a57c-e9bdc3d6758d  video  public speaking   \n",
      "996  4fe420fa-a193-4408-bd5d-62a020233609    GIF       technology   \n",
      "997  35d6a1f3-e358-4d4b-8074-05f3b7f35c2a  audio         veganism   \n",
      "998  b9bcd994-f000-4f6b-87fc-caae08acfaa1    GIF          culture   \n",
      "999  b8c653b5-0118-4d7e-9bde-07c2de90f0ff  audio       technology   \n",
      "\n",
      "                                                   URL  \n",
      "0    https://socialbuzz.cdn.com/content/storage/975...  \n",
      "1    https://socialbuzz.cdn.com/content/storage/9f7...  \n",
      "2    https://socialbuzz.cdn.com/content/storage/230...  \n",
      "3    https://socialbuzz.cdn.com/content/storage/356...  \n",
      "4    https://socialbuzz.cdn.com/content/storage/01a...  \n",
      "..                                                 ...  \n",
      "995                                                NaN  \n",
      "996  https://socialbuzz.cdn.com/content/storage/7a7...  \n",
      "997  https://socialbuzz.cdn.com/content/storage/435...  \n",
      "998  https://socialbuzz.cdn.com/content/storage/4e4...  \n",
      "999  https://socialbuzz.cdn.com/content/storage/75d...  \n",
      "\n",
      "[1000 rows x 6 columns]\n"
     ]
    }
   ],
   "source": [
    "# Remove both single and double quotations in each row of the 'Category' column\n",
    "content['Category'] = content['Category'].str.replace('\"', '').str.replace(\"'\", '')\n",
    "\n",
    "# Print the updated DataFrame\n",
    "print(content)"
   ]
  },
  {
   "cell_type": "code",
   "execution_count": 69,
   "id": "11fb4bc3",
   "metadata": {},
   "outputs": [],
   "source": [
    "# Rename the column\n",
    "content = content.rename(columns={'Type': 'Content Type'})"
   ]
  },
  {
   "cell_type": "code",
   "execution_count": 70,
   "id": "061cf1f7",
   "metadata": {},
   "outputs": [],
   "source": [
    "# Dropping the url and Unnamed: 0 Column\n",
    "content = content.drop(['URL','Unnamed: 0','User ID'], axis=1)"
   ]
  },
  {
   "cell_type": "code",
   "execution_count": 71,
   "id": "2fddec7b",
   "metadata": {},
   "outputs": [
    {
     "data": {
      "text/html": [
       "<div>\n",
       "<style scoped>\n",
       "    .dataframe tbody tr th:only-of-type {\n",
       "        vertical-align: middle;\n",
       "    }\n",
       "\n",
       "    .dataframe tbody tr th {\n",
       "        vertical-align: top;\n",
       "    }\n",
       "\n",
       "    .dataframe thead th {\n",
       "        text-align: right;\n",
       "    }\n",
       "</style>\n",
       "<table border=\"1\" class=\"dataframe\">\n",
       "  <thead>\n",
       "    <tr style=\"text-align: right;\">\n",
       "      <th></th>\n",
       "      <th>Content ID</th>\n",
       "      <th>Content Type</th>\n",
       "      <th>Category</th>\n",
       "    </tr>\n",
       "  </thead>\n",
       "  <tbody>\n",
       "    <tr>\n",
       "      <th>0</th>\n",
       "      <td>97522e57-d9ab-4bd6-97bf-c24d952602d2</td>\n",
       "      <td>photo</td>\n",
       "      <td>Studying</td>\n",
       "    </tr>\n",
       "    <tr>\n",
       "      <th>1</th>\n",
       "      <td>9f737e0a-3cdd-4d29-9d24-753f4e3be810</td>\n",
       "      <td>photo</td>\n",
       "      <td>healthy eating</td>\n",
       "    </tr>\n",
       "    <tr>\n",
       "      <th>2</th>\n",
       "      <td>230c4e4d-70c3-461d-b42c-ec09396efb3f</td>\n",
       "      <td>photo</td>\n",
       "      <td>healthy eating</td>\n",
       "    </tr>\n",
       "    <tr>\n",
       "      <th>3</th>\n",
       "      <td>356fff80-da4d-4785-9f43-bc1261031dc6</td>\n",
       "      <td>photo</td>\n",
       "      <td>technology</td>\n",
       "    </tr>\n",
       "    <tr>\n",
       "      <th>4</th>\n",
       "      <td>01ab84dd-6364-4236-abbb-3f237db77180</td>\n",
       "      <td>video</td>\n",
       "      <td>food</td>\n",
       "    </tr>\n",
       "  </tbody>\n",
       "</table>\n",
       "</div>"
      ],
      "text/plain": [
       "                             Content ID Content Type        Category\n",
       "0  97522e57-d9ab-4bd6-97bf-c24d952602d2        photo        Studying\n",
       "1  9f737e0a-3cdd-4d29-9d24-753f4e3be810        photo  healthy eating\n",
       "2  230c4e4d-70c3-461d-b42c-ec09396efb3f        photo  healthy eating\n",
       "3  356fff80-da4d-4785-9f43-bc1261031dc6        photo      technology\n",
       "4  01ab84dd-6364-4236-abbb-3f237db77180        video            food"
      ]
     },
     "execution_count": 71,
     "metadata": {},
     "output_type": "execute_result"
    }
   ],
   "source": [
    "#Cleaned Data set\n",
    "content.head()"
   ]
  },
  {
   "cell_type": "markdown",
   "id": "7cb506c2",
   "metadata": {},
   "source": [
    "# b) Reactions Data set"
   ]
  },
  {
   "cell_type": "code",
   "execution_count": 72,
   "id": "6d215993",
   "metadata": {},
   "outputs": [
    {
     "data": {
      "text/html": [
       "<div>\n",
       "<style scoped>\n",
       "    .dataframe tbody tr th:only-of-type {\n",
       "        vertical-align: middle;\n",
       "    }\n",
       "\n",
       "    .dataframe tbody tr th {\n",
       "        vertical-align: top;\n",
       "    }\n",
       "\n",
       "    .dataframe thead th {\n",
       "        text-align: right;\n",
       "    }\n",
       "</style>\n",
       "<table border=\"1\" class=\"dataframe\">\n",
       "  <thead>\n",
       "    <tr style=\"text-align: right;\">\n",
       "      <th></th>\n",
       "      <th>Unnamed: 0</th>\n",
       "      <th>Content ID</th>\n",
       "      <th>User ID</th>\n",
       "      <th>Type</th>\n",
       "      <th>Datetime</th>\n",
       "    </tr>\n",
       "  </thead>\n",
       "  <tbody>\n",
       "    <tr>\n",
       "      <th>0</th>\n",
       "      <td>0</td>\n",
       "      <td>97522e57-d9ab-4bd6-97bf-c24d952602d2</td>\n",
       "      <td>NaN</td>\n",
       "      <td>NaN</td>\n",
       "      <td>2021-04-22 15:17:15</td>\n",
       "    </tr>\n",
       "    <tr>\n",
       "      <th>1</th>\n",
       "      <td>1</td>\n",
       "      <td>97522e57-d9ab-4bd6-97bf-c24d952602d2</td>\n",
       "      <td>5d454588-283d-459d-915d-c48a2cb4c27f</td>\n",
       "      <td>disgust</td>\n",
       "      <td>2020-11-07 09:43:50</td>\n",
       "    </tr>\n",
       "    <tr>\n",
       "      <th>2</th>\n",
       "      <td>2</td>\n",
       "      <td>97522e57-d9ab-4bd6-97bf-c24d952602d2</td>\n",
       "      <td>92b87fa5-f271-43e0-af66-84fac21052e6</td>\n",
       "      <td>dislike</td>\n",
       "      <td>2021-06-17 12:22:51</td>\n",
       "    </tr>\n",
       "    <tr>\n",
       "      <th>3</th>\n",
       "      <td>3</td>\n",
       "      <td>97522e57-d9ab-4bd6-97bf-c24d952602d2</td>\n",
       "      <td>163daa38-8b77-48c9-9af6-37a6c1447ac2</td>\n",
       "      <td>scared</td>\n",
       "      <td>2021-04-18 05:13:58</td>\n",
       "    </tr>\n",
       "    <tr>\n",
       "      <th>4</th>\n",
       "      <td>4</td>\n",
       "      <td>97522e57-d9ab-4bd6-97bf-c24d952602d2</td>\n",
       "      <td>34e8add9-0206-47fd-a501-037b994650a2</td>\n",
       "      <td>disgust</td>\n",
       "      <td>2021-01-06 19:13:01</td>\n",
       "    </tr>\n",
       "  </tbody>\n",
       "</table>\n",
       "</div>"
      ],
      "text/plain": [
       "   Unnamed: 0                            Content ID  \\\n",
       "0           0  97522e57-d9ab-4bd6-97bf-c24d952602d2   \n",
       "1           1  97522e57-d9ab-4bd6-97bf-c24d952602d2   \n",
       "2           2  97522e57-d9ab-4bd6-97bf-c24d952602d2   \n",
       "3           3  97522e57-d9ab-4bd6-97bf-c24d952602d2   \n",
       "4           4  97522e57-d9ab-4bd6-97bf-c24d952602d2   \n",
       "\n",
       "                                User ID     Type             Datetime  \n",
       "0                                   NaN      NaN  2021-04-22 15:17:15  \n",
       "1  5d454588-283d-459d-915d-c48a2cb4c27f  disgust  2020-11-07 09:43:50  \n",
       "2  92b87fa5-f271-43e0-af66-84fac21052e6  dislike  2021-06-17 12:22:51  \n",
       "3  163daa38-8b77-48c9-9af6-37a6c1447ac2   scared  2021-04-18 05:13:58  \n",
       "4  34e8add9-0206-47fd-a501-037b994650a2  disgust  2021-01-06 19:13:01  "
      ]
     },
     "execution_count": 72,
     "metadata": {},
     "output_type": "execute_result"
    }
   ],
   "source": [
    "reactions.head()"
   ]
  },
  {
   "cell_type": "code",
   "execution_count": 73,
   "id": "a1e3b475",
   "metadata": {},
   "outputs": [
    {
     "data": {
      "text/plain": [
       "(25553, 5)"
      ]
     },
     "execution_count": 73,
     "metadata": {},
     "output_type": "execute_result"
    }
   ],
   "source": [
    "reactions.shape"
   ]
  },
  {
   "cell_type": "code",
   "execution_count": 74,
   "id": "288b877f",
   "metadata": {},
   "outputs": [
    {
     "name": "stdout",
     "output_type": "stream",
     "text": [
      "<class 'pandas.core.frame.DataFrame'>\n",
      "RangeIndex: 25553 entries, 0 to 25552\n",
      "Data columns (total 5 columns):\n",
      " #   Column      Non-Null Count  Dtype \n",
      "---  ------      --------------  ----- \n",
      " 0   Unnamed: 0  25553 non-null  int64 \n",
      " 1   Content ID  25553 non-null  object\n",
      " 2   User ID     22534 non-null  object\n",
      " 3   Type        24573 non-null  object\n",
      " 4   Datetime    25553 non-null  object\n",
      "dtypes: int64(1), object(4)\n",
      "memory usage: 998.3+ KB\n"
     ]
    }
   ],
   "source": [
    "reactions.info()"
   ]
  },
  {
   "cell_type": "code",
   "execution_count": 75,
   "id": "4a495be5",
   "metadata": {},
   "outputs": [
    {
     "name": "stdout",
     "output_type": "stream",
     "text": [
      "Index(['Unnamed: 0', 'Content ID', 'User ID', 'Type', 'Datetime'], dtype='object')\n"
     ]
    }
   ],
   "source": [
    "print(reactions.columns)"
   ]
  },
  {
   "cell_type": "code",
   "execution_count": 76,
   "id": "06a9231e",
   "metadata": {},
   "outputs": [
    {
     "data": {
      "text/plain": [
       "Unnamed: 0       0\n",
       "Content ID       0\n",
       "User ID       3019\n",
       "Type           980\n",
       "Datetime         0\n",
       "dtype: int64"
      ]
     },
     "execution_count": 76,
     "metadata": {},
     "output_type": "execute_result"
    }
   ],
   "source": [
    "# Let's check for missing values in our data\n",
    "reactions.isnull().sum()"
   ]
  },
  {
   "cell_type": "code",
   "execution_count": 77,
   "id": "e6fc5523",
   "metadata": {},
   "outputs": [
    {
     "data": {
      "text/plain": [
       "Unnamed: 0    False\n",
       "Content ID    False\n",
       "User ID        True\n",
       "Type           True\n",
       "Datetime      False\n",
       "dtype: bool"
      ]
     },
     "execution_count": 77,
     "metadata": {},
     "output_type": "execute_result"
    }
   ],
   "source": [
    "#Another way of Cheking for Missing data in data set by columns\n",
    "reactions.isnull().any()"
   ]
  },
  {
   "cell_type": "code",
   "execution_count": 78,
   "id": "1001e74b",
   "metadata": {},
   "outputs": [
    {
     "name": "stdout",
     "output_type": "stream",
     "text": [
      "       Unnamed: 0                            Content ID  \\\n",
      "1               1  97522e57-d9ab-4bd6-97bf-c24d952602d2   \n",
      "2               2  97522e57-d9ab-4bd6-97bf-c24d952602d2   \n",
      "3               3  97522e57-d9ab-4bd6-97bf-c24d952602d2   \n",
      "4               4  97522e57-d9ab-4bd6-97bf-c24d952602d2   \n",
      "5               5  97522e57-d9ab-4bd6-97bf-c24d952602d2   \n",
      "...           ...                                   ...   \n",
      "25547       25547  75d6b589-7fae-4a6d-b0d0-752845150e56   \n",
      "25548       25548  75d6b589-7fae-4a6d-b0d0-752845150e56   \n",
      "25549       25549  75d6b589-7fae-4a6d-b0d0-752845150e56   \n",
      "25551       25551  75d6b589-7fae-4a6d-b0d0-752845150e56   \n",
      "25552       25552  75d6b589-7fae-4a6d-b0d0-752845150e56   \n",
      "\n",
      "                                    User ID        Type             Datetime  \n",
      "1      5d454588-283d-459d-915d-c48a2cb4c27f     disgust  2020-11-07 09:43:50  \n",
      "2      92b87fa5-f271-43e0-af66-84fac21052e6     dislike  2021-06-17 12:22:51  \n",
      "3      163daa38-8b77-48c9-9af6-37a6c1447ac2      scared  2021-04-18 05:13:58  \n",
      "4      34e8add9-0206-47fd-a501-037b994650a2     disgust  2021-01-06 19:13:01  \n",
      "5      9b6d35f9-5e15-4cd0-a8d7-b1f3340e02c4  interested  2020-08-23 12:25:58  \n",
      "...                                     ...         ...                  ...  \n",
      "25547  b6d04982-1509-41ab-a700-b390d6cb4d02     worried  2020-10-31 04:50:14  \n",
      "25548  80c9ce48-46f9-4f5e-b3ca-3b698fc2e949     dislike  2020-06-27 09:46:48  \n",
      "25549  2bd9c167-e06c-47c1-a978-3403d6724606   intrigued  2021-02-16 17:17:02  \n",
      "25551  5ffd8b51-164e-47e2-885e-8b8c46eb63ed     worried  2020-11-04 20:08:31  \n",
      "25552  4edc3d1a-a7d9-4db6-89c3-f784d9954172     cherish  2021-01-04 04:55:11  \n",
      "\n",
      "[22534 rows x 5 columns]\n"
     ]
    }
   ],
   "source": [
    "# Identify rows with missing values\n",
    "missing_rows = reactions.isnull().any(axis=1)\n",
    "\n",
    "# Delete rows with missing values\n",
    "reactions = reactions[~missing_rows]\n",
    "\n",
    "# Print the updated dataset\n",
    "print(reactions)"
   ]
  },
  {
   "cell_type": "code",
   "execution_count": 79,
   "id": "0e34a80b",
   "metadata": {},
   "outputs": [
    {
     "data": {
      "text/plain": [
       "Unnamed: 0    False\n",
       "Content ID    False\n",
       "User ID       False\n",
       "Type          False\n",
       "Datetime      False\n",
       "dtype: bool"
      ]
     },
     "execution_count": 79,
     "metadata": {},
     "output_type": "execute_result"
    }
   ],
   "source": [
    "#Cheking for Missing data in data set by columns\n",
    "reactions.isnull().any()"
   ]
  },
  {
   "cell_type": "code",
   "execution_count": 80,
   "id": "3664c75c",
   "metadata": {},
   "outputs": [
    {
     "name": "stdout",
     "output_type": "stream",
     "text": [
      "Index(['Unnamed: 0', 'Content ID', 'User ID', 'Type', 'Datetime'], dtype='object')\n"
     ]
    }
   ],
   "source": [
    "print(reactions.columns)"
   ]
  },
  {
   "cell_type": "code",
   "execution_count": 81,
   "id": "31293f81",
   "metadata": {},
   "outputs": [],
   "source": [
    "# Rename the column\n",
    "# reactions = reactions.rename(columns={'Type': 'Reactions Type'})"
   ]
  },
  {
   "cell_type": "code",
   "execution_count": 82,
   "id": "7ef782c2",
   "metadata": {},
   "outputs": [],
   "source": [
    "# Dropping the User ID and Unnamed: 0 Column\n",
    "reactions = reactions.drop(['User ID','Unnamed: 0'], axis=1)"
   ]
  },
  {
   "cell_type": "code",
   "execution_count": 83,
   "id": "17737be1",
   "metadata": {},
   "outputs": [
    {
     "data": {
      "text/html": [
       "<div>\n",
       "<style scoped>\n",
       "    .dataframe tbody tr th:only-of-type {\n",
       "        vertical-align: middle;\n",
       "    }\n",
       "\n",
       "    .dataframe tbody tr th {\n",
       "        vertical-align: top;\n",
       "    }\n",
       "\n",
       "    .dataframe thead th {\n",
       "        text-align: right;\n",
       "    }\n",
       "</style>\n",
       "<table border=\"1\" class=\"dataframe\">\n",
       "  <thead>\n",
       "    <tr style=\"text-align: right;\">\n",
       "      <th></th>\n",
       "      <th>Content ID</th>\n",
       "      <th>Type</th>\n",
       "      <th>Datetime</th>\n",
       "    </tr>\n",
       "  </thead>\n",
       "  <tbody>\n",
       "    <tr>\n",
       "      <th>1</th>\n",
       "      <td>97522e57-d9ab-4bd6-97bf-c24d952602d2</td>\n",
       "      <td>disgust</td>\n",
       "      <td>2020-11-07 09:43:50</td>\n",
       "    </tr>\n",
       "    <tr>\n",
       "      <th>2</th>\n",
       "      <td>97522e57-d9ab-4bd6-97bf-c24d952602d2</td>\n",
       "      <td>dislike</td>\n",
       "      <td>2021-06-17 12:22:51</td>\n",
       "    </tr>\n",
       "    <tr>\n",
       "      <th>3</th>\n",
       "      <td>97522e57-d9ab-4bd6-97bf-c24d952602d2</td>\n",
       "      <td>scared</td>\n",
       "      <td>2021-04-18 05:13:58</td>\n",
       "    </tr>\n",
       "    <tr>\n",
       "      <th>4</th>\n",
       "      <td>97522e57-d9ab-4bd6-97bf-c24d952602d2</td>\n",
       "      <td>disgust</td>\n",
       "      <td>2021-01-06 19:13:01</td>\n",
       "    </tr>\n",
       "    <tr>\n",
       "      <th>5</th>\n",
       "      <td>97522e57-d9ab-4bd6-97bf-c24d952602d2</td>\n",
       "      <td>interested</td>\n",
       "      <td>2020-08-23 12:25:58</td>\n",
       "    </tr>\n",
       "  </tbody>\n",
       "</table>\n",
       "</div>"
      ],
      "text/plain": [
       "                             Content ID        Type             Datetime\n",
       "1  97522e57-d9ab-4bd6-97bf-c24d952602d2     disgust  2020-11-07 09:43:50\n",
       "2  97522e57-d9ab-4bd6-97bf-c24d952602d2     dislike  2021-06-17 12:22:51\n",
       "3  97522e57-d9ab-4bd6-97bf-c24d952602d2      scared  2021-04-18 05:13:58\n",
       "4  97522e57-d9ab-4bd6-97bf-c24d952602d2     disgust  2021-01-06 19:13:01\n",
       "5  97522e57-d9ab-4bd6-97bf-c24d952602d2  interested  2020-08-23 12:25:58"
      ]
     },
     "execution_count": 83,
     "metadata": {},
     "output_type": "execute_result"
    }
   ],
   "source": [
    "reactions.head()"
   ]
  },
  {
   "cell_type": "markdown",
   "id": "e34220b3",
   "metadata": {},
   "source": [
    "# c)Reaction_types"
   ]
  },
  {
   "cell_type": "code",
   "execution_count": 84,
   "id": "c6cd6b95",
   "metadata": {},
   "outputs": [
    {
     "data": {
      "text/html": [
       "<div>\n",
       "<style scoped>\n",
       "    .dataframe tbody tr th:only-of-type {\n",
       "        vertical-align: middle;\n",
       "    }\n",
       "\n",
       "    .dataframe tbody tr th {\n",
       "        vertical-align: top;\n",
       "    }\n",
       "\n",
       "    .dataframe thead th {\n",
       "        text-align: right;\n",
       "    }\n",
       "</style>\n",
       "<table border=\"1\" class=\"dataframe\">\n",
       "  <thead>\n",
       "    <tr style=\"text-align: right;\">\n",
       "      <th></th>\n",
       "      <th>Unnamed: 0</th>\n",
       "      <th>Type</th>\n",
       "      <th>Sentiment</th>\n",
       "      <th>Score</th>\n",
       "    </tr>\n",
       "  </thead>\n",
       "  <tbody>\n",
       "    <tr>\n",
       "      <th>0</th>\n",
       "      <td>0</td>\n",
       "      <td>heart</td>\n",
       "      <td>positive</td>\n",
       "      <td>60</td>\n",
       "    </tr>\n",
       "    <tr>\n",
       "      <th>1</th>\n",
       "      <td>1</td>\n",
       "      <td>want</td>\n",
       "      <td>positive</td>\n",
       "      <td>70</td>\n",
       "    </tr>\n",
       "    <tr>\n",
       "      <th>2</th>\n",
       "      <td>2</td>\n",
       "      <td>disgust</td>\n",
       "      <td>negative</td>\n",
       "      <td>0</td>\n",
       "    </tr>\n",
       "    <tr>\n",
       "      <th>3</th>\n",
       "      <td>3</td>\n",
       "      <td>hate</td>\n",
       "      <td>negative</td>\n",
       "      <td>5</td>\n",
       "    </tr>\n",
       "    <tr>\n",
       "      <th>4</th>\n",
       "      <td>4</td>\n",
       "      <td>interested</td>\n",
       "      <td>positive</td>\n",
       "      <td>30</td>\n",
       "    </tr>\n",
       "  </tbody>\n",
       "</table>\n",
       "</div>"
      ],
      "text/plain": [
       "   Unnamed: 0        Type Sentiment  Score\n",
       "0           0       heart  positive     60\n",
       "1           1        want  positive     70\n",
       "2           2     disgust  negative      0\n",
       "3           3        hate  negative      5\n",
       "4           4  interested  positive     30"
      ]
     },
     "execution_count": 84,
     "metadata": {},
     "output_type": "execute_result"
    }
   ],
   "source": [
    "reaction_types.head()"
   ]
  },
  {
   "cell_type": "code",
   "execution_count": 85,
   "id": "12ab1173",
   "metadata": {},
   "outputs": [],
   "source": [
    "# Dropping the Unnamed: 0 Column\n",
    "#reaction_types = reaction_types.drop(['Unnamed: 0'], axis=1)"
   ]
  },
  {
   "cell_type": "code",
   "execution_count": 86,
   "id": "ad2177f0",
   "metadata": {},
   "outputs": [
    {
     "data": {
      "text/html": [
       "<div>\n",
       "<style scoped>\n",
       "    .dataframe tbody tr th:only-of-type {\n",
       "        vertical-align: middle;\n",
       "    }\n",
       "\n",
       "    .dataframe tbody tr th {\n",
       "        vertical-align: top;\n",
       "    }\n",
       "\n",
       "    .dataframe thead th {\n",
       "        text-align: right;\n",
       "    }\n",
       "</style>\n",
       "<table border=\"1\" class=\"dataframe\">\n",
       "  <thead>\n",
       "    <tr style=\"text-align: right;\">\n",
       "      <th></th>\n",
       "      <th>Unnamed: 0</th>\n",
       "      <th>Type</th>\n",
       "      <th>Sentiment</th>\n",
       "      <th>Score</th>\n",
       "    </tr>\n",
       "  </thead>\n",
       "  <tbody>\n",
       "    <tr>\n",
       "      <th>0</th>\n",
       "      <td>0</td>\n",
       "      <td>heart</td>\n",
       "      <td>positive</td>\n",
       "      <td>60</td>\n",
       "    </tr>\n",
       "    <tr>\n",
       "      <th>1</th>\n",
       "      <td>1</td>\n",
       "      <td>want</td>\n",
       "      <td>positive</td>\n",
       "      <td>70</td>\n",
       "    </tr>\n",
       "    <tr>\n",
       "      <th>2</th>\n",
       "      <td>2</td>\n",
       "      <td>disgust</td>\n",
       "      <td>negative</td>\n",
       "      <td>0</td>\n",
       "    </tr>\n",
       "    <tr>\n",
       "      <th>3</th>\n",
       "      <td>3</td>\n",
       "      <td>hate</td>\n",
       "      <td>negative</td>\n",
       "      <td>5</td>\n",
       "    </tr>\n",
       "    <tr>\n",
       "      <th>4</th>\n",
       "      <td>4</td>\n",
       "      <td>interested</td>\n",
       "      <td>positive</td>\n",
       "      <td>30</td>\n",
       "    </tr>\n",
       "  </tbody>\n",
       "</table>\n",
       "</div>"
      ],
      "text/plain": [
       "   Unnamed: 0        Type Sentiment  Score\n",
       "0           0       heart  positive     60\n",
       "1           1        want  positive     70\n",
       "2           2     disgust  negative      0\n",
       "3           3        hate  negative      5\n",
       "4           4  interested  positive     30"
      ]
     },
     "execution_count": 86,
     "metadata": {},
     "output_type": "execute_result"
    }
   ],
   "source": [
    "reaction_types.head()"
   ]
  },
  {
   "cell_type": "code",
   "execution_count": 87,
   "id": "2e4cc57c",
   "metadata": {},
   "outputs": [
    {
     "data": {
      "text/plain": [
       "(16, 4)"
      ]
     },
     "execution_count": 87,
     "metadata": {},
     "output_type": "execute_result"
    }
   ],
   "source": [
    "reaction_types.shape"
   ]
  },
  {
   "cell_type": "code",
   "execution_count": 88,
   "id": "99099679",
   "metadata": {},
   "outputs": [],
   "source": [
    "# Dropping the User ID and Unnamed: 0 Column\n",
    "reaction_types = reaction_types.drop(['Unnamed: 0'], axis=1)"
   ]
  },
  {
   "cell_type": "code",
   "execution_count": 89,
   "id": "ce1d544b",
   "metadata": {},
   "outputs": [
    {
     "data": {
      "text/html": [
       "<div>\n",
       "<style scoped>\n",
       "    .dataframe tbody tr th:only-of-type {\n",
       "        vertical-align: middle;\n",
       "    }\n",
       "\n",
       "    .dataframe tbody tr th {\n",
       "        vertical-align: top;\n",
       "    }\n",
       "\n",
       "    .dataframe thead th {\n",
       "        text-align: right;\n",
       "    }\n",
       "</style>\n",
       "<table border=\"1\" class=\"dataframe\">\n",
       "  <thead>\n",
       "    <tr style=\"text-align: right;\">\n",
       "      <th></th>\n",
       "      <th>Type</th>\n",
       "      <th>Sentiment</th>\n",
       "      <th>Score</th>\n",
       "    </tr>\n",
       "  </thead>\n",
       "  <tbody>\n",
       "    <tr>\n",
       "      <th>0</th>\n",
       "      <td>heart</td>\n",
       "      <td>positive</td>\n",
       "      <td>60</td>\n",
       "    </tr>\n",
       "    <tr>\n",
       "      <th>1</th>\n",
       "      <td>want</td>\n",
       "      <td>positive</td>\n",
       "      <td>70</td>\n",
       "    </tr>\n",
       "    <tr>\n",
       "      <th>2</th>\n",
       "      <td>disgust</td>\n",
       "      <td>negative</td>\n",
       "      <td>0</td>\n",
       "    </tr>\n",
       "    <tr>\n",
       "      <th>3</th>\n",
       "      <td>hate</td>\n",
       "      <td>negative</td>\n",
       "      <td>5</td>\n",
       "    </tr>\n",
       "    <tr>\n",
       "      <th>4</th>\n",
       "      <td>interested</td>\n",
       "      <td>positive</td>\n",
       "      <td>30</td>\n",
       "    </tr>\n",
       "  </tbody>\n",
       "</table>\n",
       "</div>"
      ],
      "text/plain": [
       "         Type Sentiment  Score\n",
       "0       heart  positive     60\n",
       "1        want  positive     70\n",
       "2     disgust  negative      0\n",
       "3        hate  negative      5\n",
       "4  interested  positive     30"
      ]
     },
     "execution_count": 89,
     "metadata": {},
     "output_type": "execute_result"
    }
   ],
   "source": [
    "reaction_types.head()"
   ]
  },
  {
   "cell_type": "markdown",
   "id": "ce744f5c",
   "metadata": {},
   "source": [
    "# Data Modelling\n",
    "\n",
    "Now we want to figure out the top 5 categories. To complete your data modelling, follow these steps:\n",
    "\n",
    "1. Create a final data set by merging your three tables together\n",
    "\n",
    "We recommend using the Reaction table as your base table, then first join the relevant columns from your Content data set, and then the Reaction Types data set.\n",
    "Hint: You can use a “VLookUp” formula"
   ]
  },
  {
   "cell_type": "code",
   "execution_count": 90,
   "id": "1db5bf09",
   "metadata": {},
   "outputs": [],
   "source": [
    "# First, merge the Reaction Types table with the Reactions table using a left join\n",
    "# The 'type' column in the Reactions table is used to join with the 'id' column in the Reaction Types table\n",
    "merged_reactions = pd.merge(reactions, reaction_types, left_on='Type', right_on='Type', how='left')\n",
    "\n",
    "# Then, merge the resulting merged_reactions table with the Content table using a left join\n",
    "# The 'content_id' column in the Content table is used to join with the 'content_id' column in the merged_reactions table\n",
    "clean_data = pd.merge(content, merged_reactions, left_on='Content ID', right_on='Content ID', how='left')\n",
    "\n",
    "# Now, the final_data dataframe contains the merged data from all three tables"
   ]
  },
  {
   "cell_type": "code",
   "execution_count": 91,
   "id": "7278cbae",
   "metadata": {},
   "outputs": [
    {
     "data": {
      "text/html": [
       "<div>\n",
       "<style scoped>\n",
       "    .dataframe tbody tr th:only-of-type {\n",
       "        vertical-align: middle;\n",
       "    }\n",
       "\n",
       "    .dataframe tbody tr th {\n",
       "        vertical-align: top;\n",
       "    }\n",
       "\n",
       "    .dataframe thead th {\n",
       "        text-align: right;\n",
       "    }\n",
       "</style>\n",
       "<table border=\"1\" class=\"dataframe\">\n",
       "  <thead>\n",
       "    <tr style=\"text-align: right;\">\n",
       "      <th></th>\n",
       "      <th>Content ID</th>\n",
       "      <th>Content Type</th>\n",
       "      <th>Category</th>\n",
       "      <th>Type</th>\n",
       "      <th>Datetime</th>\n",
       "      <th>Sentiment</th>\n",
       "      <th>Score</th>\n",
       "    </tr>\n",
       "  </thead>\n",
       "  <tbody>\n",
       "    <tr>\n",
       "      <th>0</th>\n",
       "      <td>97522e57-d9ab-4bd6-97bf-c24d952602d2</td>\n",
       "      <td>photo</td>\n",
       "      <td>Studying</td>\n",
       "      <td>disgust</td>\n",
       "      <td>2020-11-07 09:43:50</td>\n",
       "      <td>negative</td>\n",
       "      <td>0.0</td>\n",
       "    </tr>\n",
       "    <tr>\n",
       "      <th>1</th>\n",
       "      <td>97522e57-d9ab-4bd6-97bf-c24d952602d2</td>\n",
       "      <td>photo</td>\n",
       "      <td>Studying</td>\n",
       "      <td>dislike</td>\n",
       "      <td>2021-06-17 12:22:51</td>\n",
       "      <td>negative</td>\n",
       "      <td>10.0</td>\n",
       "    </tr>\n",
       "    <tr>\n",
       "      <th>2</th>\n",
       "      <td>97522e57-d9ab-4bd6-97bf-c24d952602d2</td>\n",
       "      <td>photo</td>\n",
       "      <td>Studying</td>\n",
       "      <td>scared</td>\n",
       "      <td>2021-04-18 05:13:58</td>\n",
       "      <td>negative</td>\n",
       "      <td>15.0</td>\n",
       "    </tr>\n",
       "    <tr>\n",
       "      <th>3</th>\n",
       "      <td>97522e57-d9ab-4bd6-97bf-c24d952602d2</td>\n",
       "      <td>photo</td>\n",
       "      <td>Studying</td>\n",
       "      <td>disgust</td>\n",
       "      <td>2021-01-06 19:13:01</td>\n",
       "      <td>negative</td>\n",
       "      <td>0.0</td>\n",
       "    </tr>\n",
       "    <tr>\n",
       "      <th>4</th>\n",
       "      <td>97522e57-d9ab-4bd6-97bf-c24d952602d2</td>\n",
       "      <td>photo</td>\n",
       "      <td>Studying</td>\n",
       "      <td>interested</td>\n",
       "      <td>2020-08-23 12:25:58</td>\n",
       "      <td>positive</td>\n",
       "      <td>30.0</td>\n",
       "    </tr>\n",
       "  </tbody>\n",
       "</table>\n",
       "</div>"
      ],
      "text/plain": [
       "                             Content ID Content Type  Category        Type  \\\n",
       "0  97522e57-d9ab-4bd6-97bf-c24d952602d2        photo  Studying     disgust   \n",
       "1  97522e57-d9ab-4bd6-97bf-c24d952602d2        photo  Studying     dislike   \n",
       "2  97522e57-d9ab-4bd6-97bf-c24d952602d2        photo  Studying      scared   \n",
       "3  97522e57-d9ab-4bd6-97bf-c24d952602d2        photo  Studying     disgust   \n",
       "4  97522e57-d9ab-4bd6-97bf-c24d952602d2        photo  Studying  interested   \n",
       "\n",
       "              Datetime Sentiment  Score  \n",
       "0  2020-11-07 09:43:50  negative    0.0  \n",
       "1  2021-06-17 12:22:51  negative   10.0  \n",
       "2  2021-04-18 05:13:58  negative   15.0  \n",
       "3  2021-01-06 19:13:01  negative    0.0  \n",
       "4  2020-08-23 12:25:58  positive   30.0  "
      ]
     },
     "execution_count": 91,
     "metadata": {},
     "output_type": "execute_result"
    }
   ],
   "source": [
    "clean_data.head()"
   ]
  },
  {
   "cell_type": "code",
   "execution_count": 92,
   "id": "1f71d204",
   "metadata": {},
   "outputs": [],
   "source": [
    "clean_data.to_csv('C:\\\\Users\\\\monga\\\\Desktop\\\\forage\\\\Data Analysis\\\\clean_data.csv')"
   ]
  },
  {
   "cell_type": "markdown",
   "id": "e1dec7a0",
   "metadata": {},
   "source": [
    "### 2. Figure out the Top 5 performing categories\n",
    "\n",
    "- Add up the total scores for each category.\n",
    "- Hint: You can use the “Sum If” formula\n",
    "\n",
    "The end result should be one spreadsheet which contains:\n",
    "\n",
    "- A cleaned dataset\n",
    "- The top 5 categories\n",
    " \n",
    "Once you have a final data file, upload it to complete this task! We'll provide you with some explanation videos in the next step - but first give it a go to see if you can figure it out. \n",
    "\n",
    "You can use Excel or any other tool of your choice to create your final data set."
   ]
  },
  {
   "cell_type": "code",
   "execution_count": 93,
   "id": "f718873c",
   "metadata": {},
   "outputs": [],
   "source": [
    "#Calculate the total scores for each category using the following code\n",
    "\n",
    "total_scores = clean_data.groupby('Category')['Score'].sum()"
   ]
  },
  {
   "cell_type": "code",
   "execution_count": 94,
   "id": "d4e81c9d",
   "metadata": {},
   "outputs": [],
   "source": [
    "#Sort the \"total_scores\" DataFrame in descending order:\n",
    "sorted_total_scores = total_scores.sort_values(ascending=False)"
   ]
  },
  {
   "cell_type": "code",
   "execution_count": 95,
   "id": "65005d34",
   "metadata": {},
   "outputs": [],
   "source": [
    "#Identify the top 5 categories with the highest total scores:\n",
    "top_5_categories = sorted_total_scores.head(5)"
   ]
  },
  {
   "cell_type": "code",
   "execution_count": 96,
   "id": "b9354031",
   "metadata": {},
   "outputs": [
    {
     "name": "stdout",
     "output_type": "stream",
     "text": [
      "Category\n",
      "animals           65063.0\n",
      "healthy eating    62866.0\n",
      "technology        62818.0\n",
      "science           61081.0\n",
      "culture           59213.0\n",
      "Name: Score, dtype: float64\n"
     ]
    }
   ],
   "source": [
    "# The \"top_5_categories\" DataFrame will contain the top 5 performing categories with their corresponding total scores.\n",
    "\n",
    "\n",
    "# Calculate total scores for each category\n",
    "total_scores = clean_data.groupby('Category')['Score'].sum()\n",
    "\n",
    "# Sort total scores in descending order\n",
    "sorted_total_scores = total_scores.sort_values(ascending=False)\n",
    "\n",
    "# Identify top 5 categories\n",
    "top_5_categories = sorted_total_scores.head(5)\n",
    "\n",
    "print(top_5_categories)"
   ]
  },
  {
   "cell_type": "code",
   "execution_count": 97,
   "id": "3d2605f4",
   "metadata": {},
   "outputs": [
    {
     "data": {
      "text/plain": [
       "Category\n",
       "animals           65063.0\n",
       "healthy eating    62866.0\n",
       "technology        62818.0\n",
       "science           61081.0\n",
       "culture           59213.0\n",
       "Name: Score, dtype: float64"
      ]
     },
     "execution_count": 97,
     "metadata": {},
     "output_type": "execute_result"
    }
   ],
   "source": [
    "top_5_categories\n"
   ]
  },
  {
   "cell_type": "code",
   "execution_count": 98,
   "id": "173a4dc6",
   "metadata": {},
   "outputs": [],
   "source": [
    "#Exporting to desktop\n",
    "top_5_categories.to_csv('C:\\\\Users\\\\monga\\\\Desktop\\\\forage\\\\Data Analysis\\\\top_5_categories2.csv')"
   ]
  },
  {
   "cell_type": "code",
   "execution_count": null,
   "id": "0c1cb401",
   "metadata": {},
   "outputs": [],
   "source": []
  }
 ],
 "metadata": {
  "kernelspec": {
   "display_name": "Python 3 (ipykernel)",
   "language": "python",
   "name": "python3"
  },
  "language_info": {
   "codemirror_mode": {
    "name": "ipython",
    "version": 3
   },
   "file_extension": ".py",
   "mimetype": "text/x-python",
   "name": "python",
   "nbconvert_exporter": "python",
   "pygments_lexer": "ipython3",
   "version": "3.10.12"
  }
 },
 "nbformat": 4,
 "nbformat_minor": 5
}
